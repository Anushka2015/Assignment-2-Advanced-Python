{
 "cells": [
  {
   "cell_type": "markdown",
   "id": "9cbd027a",
   "metadata": {},
   "source": [
    "# 1. What is the concept of an abstract superclass?\n",
    "Ans====>An abstract class in Python is typically created to declare a set of methods that must be created in any child class built on top of this abstract class. Similarly, an abstract method is one that doesn't have any implementation."
   ]
  },
  {
   "cell_type": "markdown",
   "id": "688cc0ea",
   "metadata": {},
   "source": [
    "# 2. What happens when a class statement's top level contains a basic assignment statement?\n",
    "Ans====>the statements which are not indented are called a top-level statement. '__main__' is the name of the scope in which top-level code executes. In python, the statements which are not indented are called a top-level statement. Internally python gives a special name to top-level statements as main."
   ]
  },
  {
   "cell_type": "markdown",
   "id": "5e51e836",
   "metadata": {},
   "source": [
    "# 3. Why does a class need to manually call a superclass's __init__ method?\n",
    "Ans====>It's because one needs to define something that is NOT done in the base-class' __init__ , and the only possibility to obtain that is to put its execution in a derived-class' __init__ function."
   ]
  },
  {
   "cell_type": "markdown",
   "id": "e367d652",
   "metadata": {},
   "source": [
    "# 4. How can you augment, instead of completely replacing, an inherited method?\n",
    "Ans====> We can use superclass."
   ]
  },
  {
   "cell_type": "markdown",
   "id": "364cef85",
   "metadata": {},
   "source": [
    "# 5. How is the local scope of a class different from that of a function?\n",
    "Ans====>Local scope just refers to the scope available to a given variable, but function scope would refer to variables inside a function."
   ]
  },
  {
   "cell_type": "code",
   "execution_count": null,
   "id": "f954db6d",
   "metadata": {},
   "outputs": [],
   "source": []
  }
 ],
 "metadata": {
  "kernelspec": {
   "display_name": "Python 3 (ipykernel)",
   "language": "python",
   "name": "python3"
  },
  "language_info": {
   "codemirror_mode": {
    "name": "ipython",
    "version": 3
   },
   "file_extension": ".py",
   "mimetype": "text/x-python",
   "name": "python",
   "nbconvert_exporter": "python",
   "pygments_lexer": "ipython3",
   "version": "3.9.0"
  }
 },
 "nbformat": 4,
 "nbformat_minor": 5
}
