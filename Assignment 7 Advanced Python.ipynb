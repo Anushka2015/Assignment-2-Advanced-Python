{
 "cells": [
  {
   "cell_type": "markdown",
   "id": "77947e3d",
   "metadata": {},
   "source": [
    "Q1. What is the purpose of the try statement?\n",
    "Ans===>The try statement allows us to define a block of code to be tested for errors while it is being executed. "
   ]
  },
  {
   "cell_type": "markdown",
   "id": "0c1dbff3",
   "metadata": {},
   "source": [
    "Q2. What are the two most popular try statement variations?\n",
    "Ans===>try / except and  try / except / except"
   ]
  },
  {
   "cell_type": "markdown",
   "id": "1dc64742",
   "metadata": {},
   "source": [
    "Q3. What is the purpose of the raise statement?\n",
    "Ans===>The raise keyword raises a specific exception when a condition is met or the code encounters an error. "
   ]
  },
  {
   "cell_type": "markdown",
   "id": "8789e9d2",
   "metadata": {},
   "source": [
    "Q4. What does the assert statement do, and what other statement is it like?\n",
    "Ans===>assert statement allows us to write sanity checks in our code. These checks are known as assertions, and we can use them to test if certain assumptions remain true while you're developing our code. If any of our assertions turn false, then we have a bug in our code."
   ]
  },
  {
   "cell_type": "markdown",
   "id": "12ce400a",
   "metadata": {},
   "source": [
    "Q5. What is the purpose of the with/as argument, and what other statement is it like?\n",
    "Ans===>The with statement replaces a try-catch block with a concise shorthand. More importantly, it ensures closing resources right after processing them. A common example of using the with statement is reading or writing to a file. A function or class that supports the with statement is known as a context manager"
   ]
  }
 ],
 "metadata": {
  "kernelspec": {
   "display_name": "Python 3 (ipykernel)",
   "language": "python",
   "name": "python3"
  },
  "language_info": {
   "codemirror_mode": {
    "name": "ipython",
    "version": 3
   },
   "file_extension": ".py",
   "mimetype": "text/x-python",
   "name": "python",
   "nbconvert_exporter": "python",
   "pygments_lexer": "ipython3",
   "version": "3.9.0"
  }
 },
 "nbformat": 4,
 "nbformat_minor": 5
}
