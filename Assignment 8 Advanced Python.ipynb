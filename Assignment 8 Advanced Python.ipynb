{
 "cells": [
  {
   "cell_type": "markdown",
   "id": "30da2b0f",
   "metadata": {},
   "source": [
    "Q1. What are the two latest user-defined exception constraints in Python 3.X?\n",
    "Ans==1.class JustException(Exception): def __init__(self, message): print(message)\n",
    "raise JustException(\"Raise an Exception\")"
   ]
  },
  {
   "cell_type": "markdown",
   "id": "1a8910a8",
   "metadata": {},
   "source": [
    "Q2. How are class-based exceptions that have been raised matched to handlers?\n",
    "Ans==Class-based exceptions are either raised by the ABAP statement RAISE EXCEPTION or by the ABAP runtime environment."
   ]
  },
  {
   "cell_type": "markdown",
   "id": "0c0a8736",
   "metadata": {},
   "source": [
    "Q3. Describe two methods for attaching context information to exception artefacts.\n",
    "Ans== Built-In Exceptions and User-Defined Exceptions."
   ]
  },
  {
   "cell_type": "markdown",
   "id": "007c741b",
   "metadata": {},
   "source": [
    "Q4. Describe two methods for specifying the text of an exception object's error message.\n",
    "Ans==>wrap it in an indented try block, followed by the command \"except Exception as e\" that catches the exception and saves its error message in string variable e."
   ]
  },
  {
   "cell_type": "markdown",
   "id": "7a1db4fc",
   "metadata": {},
   "source": [
    "Q5. Why do you no longer use string-based exceptions?\n",
    "Ans===>There are many operations that can be performed with strings which makes it one of the most used data types in Python.and we are using string-based-exceptions as it is easy to use."
   ]
  }
 ],
 "metadata": {
  "kernelspec": {
   "display_name": "Python 3 (ipykernel)",
   "language": "python",
   "name": "python3"
  },
  "language_info": {
   "codemirror_mode": {
    "name": "ipython",
    "version": 3
   },
   "file_extension": ".py",
   "mimetype": "text/x-python",
   "name": "python",
   "nbconvert_exporter": "python",
   "pygments_lexer": "ipython3",
   "version": "3.9.0"
  }
 },
 "nbformat": 4,
 "nbformat_minor": 5
}
