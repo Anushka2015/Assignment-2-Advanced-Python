{
 "cells": [
  {
   "cell_type": "markdown",
   "id": "384424de",
   "metadata": {},
   "source": [
    "Q1. What is the meaning of multiple inheritance?\n",
    "Ans====>if a child class inherits from more than one class, i.e. this child class is derived from multiple classes, we call it multiple inheritance "
   ]
  },
  {
   "cell_type": "markdown",
   "id": "0a4d357c",
   "metadata": {},
   "source": [
    "Q2. What is the concept of delegation?\n",
    "Ans====>Delegation is a design pattern that allows objects to collaborate with each other in a flexible and dynamic way."
   ]
  },
  {
   "cell_type": "markdown",
   "id": "3d5f4f65",
   "metadata": {},
   "source": [
    "Q3. What is the concept of composition?\n",
    "Ans====>Composition is one of the fundamental concepts in object-oriented programming. It describes a class that references one or more objects of other classes in instance variables."
   ]
  },
  {
   "cell_type": "markdown",
   "id": "4c93c6fd",
   "metadata": {},
   "source": [
    "Q4. What are bound methods and how do we use them?\n",
    "Ans====>The Bound methods are the methods defined in a class. The bound methods are bound to the class in which they are defined. They take an instance of their class along with the other arguments as its parameters."
   ]
  },
  {
   "cell_type": "markdown",
   "id": "ebf03d9a",
   "metadata": {},
   "source": [
    "Q5. What is the purpose of pseudoprivate attributes?\n",
    "Ans====>Pseudoprivate attributes are useful in larger frameworks or tools, both to avoid introducing new method names."
   ]
  }
 ],
 "metadata": {
  "kernelspec": {
   "display_name": "Python 3 (ipykernel)",
   "language": "python",
   "name": "python3"
  },
  "language_info": {
   "codemirror_mode": {
    "name": "ipython",
    "version": 3
   },
   "file_extension": ".py",
   "mimetype": "text/x-python",
   "name": "python",
   "nbconvert_exporter": "python",
   "pygments_lexer": "ipython3",
   "version": "3.9.0"
  }
 },
 "nbformat": 4,
 "nbformat_minor": 5
}
