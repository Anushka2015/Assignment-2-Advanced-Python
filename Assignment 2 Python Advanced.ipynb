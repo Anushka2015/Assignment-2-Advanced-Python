{
 "cells": [
  {
   "cell_type": "markdown",
   "id": "668d7a07",
   "metadata": {},
   "source": [
    "# Q1. What is the relationship between classes and modules?\n",
    "Ans====>The difference between a class and a module in python is that a class is used to define a blueprint for a given object, whereas a module is used to reuse a given piece of code inside another program."
   ]
  },
  {
   "cell_type": "markdown",
   "id": "eddc41d1",
   "metadata": {},
   "source": [
    "# Q2. How do you make instances and classes?\n",
    "Ans====> a class can be created by using the keyword class, followed by the class name. \n",
    "    To create instances of a class, you call the class using class name and pass in whatever arguments its __init__ method accepts."
   ]
  },
  {
   "cell_type": "markdown",
   "id": "1816bab4",
   "metadata": {},
   "source": [
    "# Q3. Where and how should be class attributes created?\n",
    "Ans====>A class attribute is a Python variable that belongs to a class rather than a particular object. It's shared between all the objects of this class and is defined outside the constructor function, __init__(self,...) , of the class."
   ]
  },
  {
   "cell_type": "markdown",
   "id": "eba8c6f9",
   "metadata": {},
   "source": [
    "# Q4. Where and how are instance attributes created?\n",
    "Ans====>Instance attributes are defined in the constructor. Defined directly inside a class. Defined inside a constructor using the self parameter.\n",
    "An instance attribute is a Python variable belonging to one, and only one, object. This variable is only accessible in the scope of this object, and it's defined inside the constructor function, __init__(self,..) of the class."
   ]
  },
  {
   "cell_type": "markdown",
   "id": "1c2dc270",
   "metadata": {},
   "source": [
    "# Q5. What does the term &quot;self&quot; in a Python class mean?\n",
    "Ans====> SELF represents the instance of class. This handy keyword allows to access variables, attributes, and methods of a defined class in Python. The self parameter doesn't have to be named “self,” as can call it by any other name."
   ]
  },
  {
   "cell_type": "markdown",
   "id": "ab6298bd",
   "metadata": {},
   "source": [
    "# Q6. How does a Python class handle operator overloading?\n",
    "Ans====>Python does not support function overloading. Suppose we still want to use the feature of functional overloading. In that case, we can set the default values of parameters in the method as None, which won't give an error if that specific value is not passed as an argument while calling the function.0"
   ]
  },
  {
   "cell_type": "markdown",
   "id": "a951cac6",
   "metadata": {},
   "source": [
    "# Q7. When do you consider allowing operator overloading of your classes?\n",
    "Ans====>It allows for reusability; instead of developing numerous methods with minor differences, we can simply write one method and overload it. It also increases code clarity and reduces complexity. Operator overloading also makes the code more concise and easier to understand."
   ]
  },
  {
   "cell_type": "markdown",
   "id": "bb3b3d45",
   "metadata": {},
   "source": [
    "# Q8. What is the most popular form of operator overloading?\n",
    "Ans====>Most popular form of operator overloading are int class and str class."
   ]
  },
  {
   "cell_type": "markdown",
   "id": "2cd84762",
   "metadata": {},
   "source": [
    "# Q9. What are the two most important concepts to grasp in order to comprehend Python OOP code?\n",
    "Ans====>Major OOP concepts in Python include Class, Object, Method, Inheritance, Polymorphism, Data Abstraction, and Encapsulation."
   ]
  },
  {
   "cell_type": "code",
   "execution_count": null,
   "id": "4fc631c2",
   "metadata": {},
   "outputs": [],
   "source": []
  }
 ],
 "metadata": {
  "kernelspec": {
   "display_name": "Python 3 (ipykernel)",
   "language": "python",
   "name": "python3"
  },
  "language_info": {
   "codemirror_mode": {
    "name": "ipython",
    "version": 3
   },
   "file_extension": ".py",
   "mimetype": "text/x-python",
   "name": "python",
   "nbconvert_exporter": "python",
   "pygments_lexer": "ipython3",
   "version": "3.9.0"
  }
 },
 "nbformat": 4,
 "nbformat_minor": 5
}
