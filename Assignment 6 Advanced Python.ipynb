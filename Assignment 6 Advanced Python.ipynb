{
 "cells": [
  {
   "cell_type": "markdown",
   "id": "24e30ba3",
   "metadata": {},
   "source": [
    "Q1. Describe three applications for exception processing.\n",
    "Ans===>Exception handling is the process of responding to \n",
    "1.unwanted or unexpected events when a computer program runs. \n",
    "2.Exception handling deals with these events to avoid the program or system crashing, \n",
    "3.and without this process, exceptions would disrupt the normal operation of a program."
   ]
  },
  {
   "cell_type": "markdown",
   "id": "a94846c4",
   "metadata": {},
   "source": [
    "Q2. What happens if you don't do something extra to treat an exception?\n",
    "Ans====>the program will terminates abruptly and the code past the line that caused the exception will not get executed."
   ]
  },
  {
   "cell_type": "markdown",
   "id": "43df27bb",
   "metadata": {},
   "source": [
    "Q3. What are your options for recovering from an exception in your script?\n",
    "Ans===>Any function can be assigned to a script as a recovery function. Once set, if there is an error during execution, the recovery function will be called before the script stops."
   ]
  },
  {
   "cell_type": "markdown",
   "id": "3dcd9b78",
   "metadata": {},
   "source": [
    "Q4. Describe two methods for triggering exceptions in your script.\n",
    "Ans===>In Python, exceptions can be handled by two new methods: Try: Catches exceptions raised by Python or a program. Raise: A custom exception that triggers an exception manually."
   ]
  },
  {
   "cell_type": "markdown",
   "id": "c2b6fce2",
   "metadata": {},
   "source": [
    "Q5. Identify two methods for specifying actions to be executed at termination time, regardless of\n",
    "whether or not an exception exists.\n",
    "Ans===>else and finally are specifying actions to be executed at termination time, regardless of\n",
    "whether or not an exception exists."
   ]
  }
 ],
 "metadata": {
  "kernelspec": {
   "display_name": "Python 3 (ipykernel)",
   "language": "python",
   "name": "python3"
  },
  "language_info": {
   "codemirror_mode": {
    "name": "ipython",
    "version": 3
   },
   "file_extension": ".py",
   "mimetype": "text/x-python",
   "name": "python",
   "nbconvert_exporter": "python",
   "pygments_lexer": "ipython3",
   "version": "3.9.0"
  }
 },
 "nbformat": 4,
 "nbformat_minor": 5
}
