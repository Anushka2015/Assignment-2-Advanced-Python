{
 "cells": [
  {
   "cell_type": "markdown",
   "id": "7bd77f2d",
   "metadata": {},
   "source": [
    "# Q1. Which two operator overloading methods can you use in your classes to support iteration?\n",
    "Ans====>The __iter__ returns the iterator object and is implicitly called at the start of loops. The __next__ method returns the next value and is implicitly called at each loop increment. __next__ raises a StopIteration exception when there are no more value to return, which is implicitly captured by looping constructs to stop iterating."
   ]
  },
  {
   "cell_type": "markdown",
   "id": "9452a095",
   "metadata": {},
   "source": [
    "# Q2. In what contexts do the two operator overloading methods manage printing?\n",
    "Ans====>The __str__() method returns a human-readable, or informal, string representation of an object. This method is called by the built-in print() , str() , and format() functions. If you don't define a __str__() method for a class, then the built-in object implementation calls the __repr__() method instead."
   ]
  },
  {
   "cell_type": "markdown",
   "id": "4070066b",
   "metadata": {},
   "source": [
    "# Q3. In a class, how do you intercept slice operations?\n",
    "Ans====>The slice() method returns a portion of an iterable as an object of the slice class based on the specified range. It can be used with string, list, tuple, set, bytes, or range objects or custom class object that implements sequence methods __getitem__() and __len__() methods."
   ]
  },
  {
   "cell_type": "markdown",
   "id": "b18681f1",
   "metadata": {},
   "source": [
    "# Q4. In a class, how do you capture in-place addition?\n",
    "Ans====>I can set up the in-place addition behavior for your own class by overriding the magic “dunder” method __iadd__(self, other) in your class definition."
   ]
  },
  {
   "cell_type": "markdown",
   "id": "9ee11257",
   "metadata": {},
   "source": [
    "# Q5. When is it appropriate to use operator overloading?\n",
    "Ans====>When one or both operands are of a user-defined class or structure type, operator overloading makes it easier to specify user-defined implementation for such operations. This makes user-defined types more similar to the basic primitive data types in terms of behaviour."
   ]
  },
  {
   "cell_type": "code",
   "execution_count": null,
   "id": "3bdc3866",
   "metadata": {},
   "outputs": [],
   "source": []
  }
 ],
 "metadata": {
  "kernelspec": {
   "display_name": "Python 3 (ipykernel)",
   "language": "python",
   "name": "python3"
  },
  "language_info": {
   "codemirror_mode": {
    "name": "ipython",
    "version": 3
   },
   "file_extension": ".py",
   "mimetype": "text/x-python",
   "name": "python",
   "nbconvert_exporter": "python",
   "pygments_lexer": "ipython3",
   "version": "3.9.0"
  }
 },
 "nbformat": 4,
 "nbformat_minor": 5
}
